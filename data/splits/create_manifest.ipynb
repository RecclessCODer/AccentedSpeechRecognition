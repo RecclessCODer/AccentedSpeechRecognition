{
 "cells": [
  {
   "cell_type": "code",
   "execution_count": 35,
   "metadata": {},
   "outputs": [
    {
     "name": "stdout",
     "output_type": "stream",
     "text": [
      "CPU times: user 72.8 ms, sys: 7.51 ms, total: 80.4 ms\n",
      "Wall time: 79.6 ms\n"
     ]
    }
   ],
   "source": [
    "%%time\n",
    "target = 'train.csv'\n",
    "new_ = []\n",
    "with open('o'+target, 'r') as f:\n",
    "    for l in f.readlines():\n",
    "        s = l.split(',')\n",
    "        ty = s[0].split('/')[3].split('-')[2]\n",
    "        \n",
    "        id_ = s[0].split('/')[5].split('.')[0].split('-')[1]\n",
    "        base_dir = f'./data/{ty}/'\n",
    "        sample_name = f'cv-valid-{ty}-sample-{id_}'\n",
    "        \n",
    "        new_line = base_dir+'mfccs/'+sample_name+','+ base_dir+'ivectors/'+sample_name+',' \\\n",
    "            + base_dir+'embeddings/'+sample_name+ ','+base_dir+'txt/'+f'sample-{id_}.txt'+','+s[2]\n",
    "        new_.append(new_line)\n"
   ]
  },
  {
   "cell_type": "code",
   "execution_count": 36,
   "metadata": {},
   "outputs": [
    {
     "name": "stdout",
     "output_type": "stream",
     "text": [
      "CPU times: user 6.71 ms, sys: 3.45 ms, total: 10.2 ms\n",
      "Wall time: 9.51 ms\n"
     ]
    }
   ],
   "source": [
    "%%time\n",
    "with open(target, 'w') as f:\n",
    "    for l in new_:\n",
    "        f.write(l)"
   ]
  },
  {
   "cell_type": "code",
   "execution_count": null,
   "metadata": {},
   "outputs": [],
   "source": []
  }
 ],
 "metadata": {
  "kernelspec": {
   "display_name": "Python 3",
   "language": "python",
   "name": "python3"
  },
  "language_info": {
   "codemirror_mode": {
    "name": "ipython",
    "version": 3
   },
   "file_extension": ".py",
   "mimetype": "text/x-python",
   "name": "python",
   "nbconvert_exporter": "python",
   "pygments_lexer": "ipython3",
   "version": "3.6.8"
  }
 },
 "nbformat": 4,
 "nbformat_minor": 2
}
